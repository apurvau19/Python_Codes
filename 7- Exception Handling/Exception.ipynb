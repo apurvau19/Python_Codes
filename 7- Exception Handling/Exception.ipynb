{
 "cells": [
  {
   "cell_type": "markdown",
   "id": "fcbbd86d",
   "metadata": {},
   "source": [
    "### Exception Handling"
   ]
  },
  {
   "cell_type": "code",
   "execution_count": 1,
   "id": "20b8415e",
   "metadata": {},
   "outputs": [
    {
     "ename": "NameError",
     "evalue": "name 'b' is not defined",
     "output_type": "error",
     "traceback": [
      "\u001b[31m---------------------------------------------------------------------------\u001b[39m",
      "\u001b[31mNameError\u001b[39m                                 Traceback (most recent call last)",
      "\u001b[36mCell\u001b[39m\u001b[36m \u001b[39m\u001b[32mIn[1]\u001b[39m\u001b[32m, line 1\u001b[39m\n\u001b[32m----> \u001b[39m\u001b[32m1\u001b[39m a=\u001b[43mb\u001b[49m\n",
      "\u001b[31mNameError\u001b[39m: name 'b' is not defined"
     ]
    }
   ],
   "source": [
    "a=b"
   ]
  },
  {
   "cell_type": "code",
   "execution_count": 2,
   "id": "fab0f373",
   "metadata": {},
   "outputs": [
    {
     "name": "stdout",
     "output_type": "stream",
     "text": [
      "b is not defined\n"
     ]
    }
   ],
   "source": [
    "try:\n",
    "    a=b\n",
    "except:\n",
    "    print(\"b is not defined\")"
   ]
  },
  {
   "cell_type": "code",
   "execution_count": 12,
   "id": "bc992ad7",
   "metadata": {},
   "outputs": [
    {
     "name": "stdout",
     "output_type": "stream",
     "text": [
      "name 'b' is not defined\n"
     ]
    }
   ],
   "source": [
    "try:\n",
    "    a=b\n",
    "except NameError as e:\n",
    "    print(e)\n"
   ]
  },
  {
   "cell_type": "code",
   "execution_count": null,
   "id": "7555c55f",
   "metadata": {},
   "outputs": [],
   "source": []
  },
  {
   "cell_type": "code",
   "execution_count": 14,
   "id": "bea24bd6",
   "metadata": {},
   "outputs": [
    {
     "name": "stdout",
     "output_type": "stream",
     "text": [
      "object of type 'NoneType' has no len()\n"
     ]
    }
   ],
   "source": [
    "try:\n",
    "    c = None\n",
    "    len(c)\n",
    "except TypeError as ty:\n",
    "    print(ty)"
   ]
  },
  {
   "cell_type": "code",
   "execution_count": 34,
   "id": "00c2d220",
   "metadata": {},
   "outputs": [
    {
     "name": "stdout",
     "output_type": "stream",
     "text": [
      "object of type 'NoneType' has no len()\n",
      "division by zero\n"
     ]
    }
   ],
   "source": [
    "try:\n",
    "   \n",
    "  \n",
    "    try:\n",
    "        c = None\n",
    "        len(c)\n",
    "    except Exception as e:\n",
    "        print(e)\n",
    "    c=15/0\n",
    "    \n",
    "except Exception as ze:\n",
    "    print(ze)"
   ]
  },
  {
   "cell_type": "code",
   "execution_count": 37,
   "id": "b22c6888",
   "metadata": {},
   "outputs": [],
   "source": [
    "def func1():\n",
    "    try:\n",
    "        5/0\n",
    "    except Exception as e:\n",
    "        raise e"
   ]
  },
  {
   "cell_type": "code",
   "execution_count": null,
   "id": "e013bf50",
   "metadata": {},
   "outputs": [
    {
     "name": "stdout",
     "output_type": "stream",
     "text": [
      "in try\n"
     ]
    }
   ],
   "source": [
    "def func2():\n",
    "    try:\n",
    "        print(\"in try\")\n",
    "        # func1()\n",
    "    except Exception as e:\n",
    "        print(e)\n",
    "        try:\n",
    "            print(\"in nested try\")\n",
    "        except:\n",
    "            pass\n",
    "\n",
    "func2()"
   ]
  },
  {
   "cell_type": "code",
   "execution_count": 43,
   "id": "5d2751ae",
   "metadata": {},
   "outputs": [
    {
     "name": "stdout",
     "output_type": "stream",
     "text": [
      "variable is not assigned\n"
     ]
    }
   ],
   "source": [
    "# Exception by try except block:\n",
    "try:\n",
    "    a=b\n",
    "except:\n",
    "    print(\"variable is not assigned\")"
   ]
  },
  {
   "cell_type": "code",
   "execution_count": 44,
   "id": "01ccaeba",
   "metadata": {},
   "outputs": [
    {
     "name": "stdout",
     "output_type": "stream",
     "text": [
      "name 'b' is not defined\n"
     ]
    }
   ],
   "source": [
    "try:\n",
    "    a=b\n",
    "except NameError as e:\n",
    "    print(e)"
   ]
  },
  {
   "cell_type": "code",
   "execution_count": 46,
   "id": "6e593129",
   "metadata": {},
   "outputs": [
    {
     "ename": "ZeroDivisionError",
     "evalue": "division by zero",
     "output_type": "error",
     "traceback": [
      "\u001b[31m---------------------------------------------------------------------------\u001b[39m",
      "\u001b[31mZeroDivisionError\u001b[39m                         Traceback (most recent call last)",
      "\u001b[36mCell\u001b[39m\u001b[36m \u001b[39m\u001b[32mIn[46]\u001b[39m\u001b[32m, line 1\u001b[39m\n\u001b[32m----> \u001b[39m\u001b[32m1\u001b[39m result=\u001b[32;43m1\u001b[39;49m\u001b[43m/\u001b[49m\u001b[32;43m0\u001b[39;49m\n",
      "\u001b[31mZeroDivisionError\u001b[39m: division by zero"
     ]
    }
   ],
   "source": [
    "result=1/0"
   ]
  },
  {
   "cell_type": "code",
   "execution_count": 52,
   "id": "dfc565f5",
   "metadata": {},
   "outputs": [
    {
     "name": "stdout",
     "output_type": "stream",
     "text": [
      "division by zero\n",
      "Please enter the denominator greater than 0\n"
     ]
    }
   ],
   "source": [
    "try:\n",
    "    result=1/0\n",
    "except ZeroDivisionError as Z:\n",
    "    print(Z)\n",
    "    print(\"Please enter the denominator greater than 0\")"
   ]
  },
  {
   "cell_type": "code",
   "execution_count": 59,
   "id": "59db00e5",
   "metadata": {},
   "outputs": [
    {
     "name": "stdout",
     "output_type": "stream",
     "text": [
      "name 'b' is not defined\n",
      "Main exception caught here\n"
     ]
    }
   ],
   "source": [
    "try:\n",
    "    a = b \n",
    "    r = 2/0\n",
    "except ZeroDivisionError as e:\n",
    "    print(e) \n",
    "    print(\"Please enter denominator\")\n",
    "except Exception as E:       #Exception is a parent class\n",
    "    print(E)\n",
    "    print(\"Main exception caught here\")\n"
   ]
  },
  {
   "cell_type": "code",
   "execution_count": 65,
   "id": "ac8e30ca",
   "metadata": {},
   "outputs": [
    {
     "name": "stdout",
     "output_type": "stream",
     "text": [
      "-100.0\n"
     ]
    }
   ],
   "source": [
    "try:\n",
    "    num = int(input(\"Enter any number: \"))\n",
    "    result = 100/num\n",
    "    print(result)\n",
    "\n",
    "except ValueError as V:\n",
    "    print(\"Enter valid number\")\n",
    "\n",
    "except ZeroDivisionError as Z:\n",
    "    print(\"Please enter number greater than 0\")\n",
    "\n",
    "except Exception as E:\n",
    "    print(E)"
   ]
  },
  {
   "cell_type": "code",
   "execution_count": null,
   "id": "f4f1593a",
   "metadata": {},
   "outputs": [
    {
     "name": "stdout",
     "output_type": "stream",
     "text": [
      "Enter Valid number\n",
      "this always prints\n",
      "Enter Valid number\n",
      "this always prints\n",
      "The result of 1/12 is: 0.08333333333333333\n",
      "this always prints\n"
     ]
    }
   ],
   "source": [
    "# try, except, else block\n",
    "while 1:\n",
    "    try:\n",
    "        number = int(input(\"Enter any Number: \"))\n",
    "        result = 1/number\n",
    "    except ValueError as V:\n",
    "        print(\"Enter Valid number\")\n",
    "    except ZeroDivisionError as Z:\n",
    "        print(\"Enter number > 0\")\n",
    "    except Exception as E:\n",
    "        print(E)\n",
    "    else:\n",
    "        print(f\"The result of 1/{number} is: {result}\")\n",
    "        break\n",
    "    finally:\n",
    "        print(\"in finally so this always prints\")\n",
    "\n"
   ]
  },
  {
   "cell_type": "markdown",
   "id": "6937d57c",
   "metadata": {},
   "source": [
    "In python 0 is considered as False and any non-zero number is considered as True\n",
    "so\n",
    "if 1:\n",
    "    #your code here\n",
    "\n",
    "works same as \n",
    "if (some condition returning True):\n",
    "    #your code here"
   ]
  },
  {
   "cell_type": "code",
   "execution_count": null,
   "metadata": {},
   "outputs": [],
   "source": []
  },
  {
   "cell_type": "code",
   "execution_count": null,
   "metadata": {},
   "outputs": [],
   "source": []
  },
  {
   "cell_type": "code",
   "execution_count": null,
   "metadata": {},
   "outputs": [],
   "source": []
  },
  {
   "cell_type": "code",
   "execution_count": null,
   "metadata": {},
   "outputs": [],
   "source": []
  },
  {
   "cell_type": "code",
   "execution_count": null,
   "metadata": {},
   "outputs": [],
   "source": []
  },
  {
   "cell_type": "code",
   "execution_count": null,
   "metadata": {},
   "outputs": [],
   "source": []
  },
  {
   "cell_type": "code",
   "execution_count": null,
   "metadata": {},
   "outputs": [],
   "source": []
  },
  {
   "cell_type": "code",
   "execution_count": null,
   "metadata": {},
   "outputs": [],
   "source": []
  },
  {
   "cell_type": "code",
   "execution_count": null,
   "id": "11861f93",
   "metadata": {},
   "outputs": [],
   "source": []
  },
  {
   "cell_type": "code",
   "execution_count": null,
   "id": "2c461499",
   "metadata": {},
   "outputs": [],
   "source": []
  }
 ],
 "metadata": {
  "kernelspec": {
   "display_name": "Python 3",
   "language": "python",
   "name": "python3"
  },
  "language_info": {
   "codemirror_mode": {
    "name": "ipython",
    "version": 3
   },
   "file_extension": ".py",
   "mimetype": "text/x-python",
   "name": "python",
   "nbconvert_exporter": "python",
   "pygments_lexer": "ipython3",
   "version": "3.12.0"
  }
 },
 "nbformat": 4,
 "nbformat_minor": 5
}
