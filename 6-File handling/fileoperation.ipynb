{
 "cells": [
  {
   "cell_type": "markdown",
   "id": "bb006f51",
   "metadata": {},
   "source": [
    "#### File operations: Read and Write files"
   ]
  },
  {
   "cell_type": "code",
   "execution_count": 3,
   "id": "1ac193e3",
   "metadata": {},
   "outputs": [
    {
     "name": "stdout",
     "output_type": "stream",
     "text": [
      "Hey Apurva,\n",
      "how are you?\n",
      "Hope you are doing well!!\n",
      "You are very brave and smart!!\n",
      ":)\n",
      "\n"
     ]
    }
   ],
   "source": [
    "with open('example.txt', 'r') as file:\n",
    "    content=file.read()\n",
    "    print(content)"
   ]
  },
  {
   "cell_type": "code",
   "execution_count": 4,
   "id": "b3e28785",
   "metadata": {},
   "outputs": [
    {
     "name": "stdout",
     "output_type": "stream",
     "text": [
      "Hey Apurva,\n",
      "\n",
      "how are you?\n",
      "\n",
      "Hope you are doing well!!\n",
      "\n",
      "You are very brave and smart!!\n",
      "\n",
      ":)\n",
      "\n"
     ]
    }
   ],
   "source": [
    "# Read a file line by line\n",
    "with open(\"example.txt\", 'r') as file:\n",
    "    for line in file:\n",
    "        print(line)"
   ]
  },
  {
   "cell_type": "code",
   "execution_count": 11,
   "id": "54253614",
   "metadata": {},
   "outputs": [
    {
     "name": "stdout",
     "output_type": "stream",
     "text": [
      "Hey Apurva,\n",
      "how are you?\n",
      "Hope you are doing well!\n",
      "You are very brave and smart!!\n",
      ":)\n"
     ]
    }
   ],
   "source": [
    "# Read a file line by line\n",
    "with open(\"example.txt\", 'r') as file:\n",
    "    for line in file:\n",
    "        print(line.strip())"
   ]
  },
  {
   "cell_type": "code",
   "execution_count": 1,
   "id": "750db2ca",
   "metadata": {},
   "outputs": [],
   "source": [
    "#Writing a file (with overwriting)\n",
    "with open('example.txt', 'w') as file:\n",
    "    file.write(\"Hello World!\\n\")\n",
    "    file.write(\"this is a new line\")\n",
    "    "
   ]
  },
  {
   "cell_type": "code",
   "execution_count": 12,
   "id": "91040e2a",
   "metadata": {},
   "outputs": [],
   "source": [
    "#Writing a file (without overwriting)\n",
    "with open('example.txt', 'a') as file:\n",
    "    file.write(\"Append operation taking place! \\n\")"
   ]
  },
  {
   "cell_type": "code",
   "execution_count": 13,
   "id": "d3f1f7a7",
   "metadata": {},
   "outputs": [],
   "source": [
    "#Writing a list of lines to a file \n",
    "lines=['first line\\n', 'Second line\\n', 'third line!\\n']\n",
    "with open('example.txt', 'a') as file:\n",
    "    file.writelines(lines)"
   ]
  },
  {
   "cell_type": "code",
   "execution_count": 14,
   "id": "3ba29ccf",
   "metadata": {},
   "outputs": [],
   "source": [
    "#Binary files\n",
    "data = b'\\x00\\x01\\x03\\x04'\n",
    "with open (\"example.bin\", 'wb') as file:    #write byte\n",
    "    file.write(data)\n",
    "\n"
   ]
  },
  {
   "cell_type": "code",
   "execution_count": null,
   "id": "3cfde010",
   "metadata": {},
   "outputs": [],
   "source": []
  },
  {
   "cell_type": "code",
   "execution_count": null,
   "id": "2a432d4a",
   "metadata": {},
   "outputs": [],
   "source": []
  },
  {
   "cell_type": "code",
   "execution_count": null,
   "id": "98a7a6ce",
   "metadata": {},
   "outputs": [],
   "source": []
  },
  {
   "cell_type": "code",
   "execution_count": null,
   "id": "14408d45",
   "metadata": {},
   "outputs": [],
   "source": []
  },
  {
   "cell_type": "code",
   "execution_count": null,
   "id": "739277be",
   "metadata": {},
   "outputs": [],
   "source": []
  },
  {
   "cell_type": "code",
   "execution_count": null,
   "id": "1229f04a",
   "metadata": {},
   "outputs": [],
   "source": []
  }
 ],
 "metadata": {
  "kernelspec": {
   "display_name": "Python 3",
   "language": "python",
   "name": "python3"
  },
  "language_info": {
   "codemirror_mode": {
    "name": "ipython",
    "version": 3
   },
   "file_extension": ".py",
   "mimetype": "text/x-python",
   "name": "python",
   "nbconvert_exporter": "python",
   "pygments_lexer": "ipython3",
   "version": "3.12.0"
  }
 },
 "nbformat": 4,
 "nbformat_minor": 5
}
