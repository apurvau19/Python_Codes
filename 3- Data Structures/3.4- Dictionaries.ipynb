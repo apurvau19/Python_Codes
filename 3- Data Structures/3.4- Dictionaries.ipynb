{
 "cells": [
  {
   "cell_type": "markdown",
   "metadata": {},
   "source": [
    "## DICTIONARIES"
   ]
  },
  {
   "cell_type": "code",
   "execution_count": 2,
   "metadata": {},
   "outputs": [
    {
     "data": {
      "text/plain": [
       "dict"
      ]
     },
     "execution_count": 2,
     "metadata": {},
     "output_type": "execute_result"
    }
   ],
   "source": [
    "#Creating dictionaries\n",
    "# []: empty list, (): Empty tuples\n",
    "empty_dict={}\n",
    "type(empty_dict)"
   ]
  },
  {
   "cell_type": "code",
   "execution_count": 4,
   "metadata": {},
   "outputs": [
    {
     "data": {
      "text/plain": [
       "dict"
      ]
     },
     "execution_count": 4,
     "metadata": {},
     "output_type": "execute_result"
    }
   ],
   "source": [
    "#OR\n",
    "empty_dict2=dict()\n",
    "type(empty_dict2)"
   ]
  },
  {
   "cell_type": "code",
   "execution_count": 6,
   "metadata": {},
   "outputs": [
    {
     "name": "stdout",
     "output_type": "stream",
     "text": [
      "{'name': 'Appu', 'age': 26, 'grade': 22}\n"
     ]
    }
   ],
   "source": [
    "Student = {\"name\": \"Appu\", \"age\": 26, \"grade\": 22}\n",
    "print(Student)"
   ]
  },
  {
   "cell_type": "code",
   "execution_count": 7,
   "metadata": {},
   "outputs": [
    {
     "name": "stdout",
     "output_type": "stream",
     "text": [
      "{'name': 22, 'age': 26}\n"
     ]
    }
   ],
   "source": [
    "#single key is always used\n",
    "student = {\"name\": \"Appu\", \"age\": 26, \"name\": 22}\n",
    "print(student)\n"
   ]
  },
  {
   "cell_type": "code",
   "execution_count": 8,
   "metadata": {},
   "outputs": [
    {
     "name": "stdout",
     "output_type": "stream",
     "text": [
      "A\n",
      "27\n",
      "Appu\n",
      "None\n",
      "Not available\n"
     ]
    }
   ],
   "source": [
    "# Accessing dictionary elements\n",
    "student = {\"name\":\"Appu\", \"age\": 27, \"grade\": 'A'}\n",
    "print(student[\"grade\"])\n",
    "print(student[\"age\"])\n",
    "\n",
    "#Using get() method\n",
    "print(student.get(\"name\"))\n",
    "print(student.get(\"Last_name\"))\n",
    "print(student.get(\"last_name\", \"Not available\"))\n"
   ]
  },
  {
   "cell_type": "code",
   "execution_count": null,
   "metadata": {},
   "outputs": [
    {
     "name": "stdout",
     "output_type": "stream",
     "text": [
      "{'name': 'Appu', 'age': 27, 'grade': 'A'}\n",
      "{'name': 'Appu', 'age': 27, 'grade': 'B'}\n",
      "{'name': 'Appu', 'age': 27, 'grade': 'B', 'Address': 'India'}\n",
      "{'name': 'Appu', 'grade': 'B', 'Address': 'India'}\n"
     ]
    }
   ],
   "source": [
    "#Modifying dictioonary elements\n",
    "# dicts are mutable so we can add, update or delete elements\n",
    "student = {\"name\":\"Appu\", \"age\": 27, \"grade\": 'A'}\n",
    "\n",
    "print(student)\n",
    "student[\"grade\"] = \"B\"      #update\n",
    "print(student)\n",
    "student[\"Address\"]=\"India\"  #add\n",
    "print(student)\n",
    "del student['age']          #delete\n",
    "print(student)"
   ]
  },
  {
   "cell_type": "code",
   "execution_count": 19,
   "metadata": {},
   "outputs": [
    {
     "name": "stdout",
     "output_type": "stream",
     "text": [
      "{'name': 'Appu', 'grade': 'B', 'Address': 'India'}\n",
      "dict_keys(['name', 'grade', 'Address'])\n",
      "dict_values(['Appu', 'B', 'India'])\n",
      "dict_items([('name', 'Appu'), ('grade', 'B'), ('Address', 'India')])\n"
     ]
    }
   ],
   "source": [
    "# Dictionary methods\n",
    "print(student)\n",
    "keys = student.keys()\n",
    "print(keys)\n",
    "values = student.values()\n",
    "print(values)\n",
    "items = student.items()\n",
    "print(items)"
   ]
  },
  {
   "cell_type": "code",
   "execution_count": 21,
   "metadata": {},
   "outputs": [
    {
     "name": "stdout",
     "output_type": "stream",
     "text": [
      "{'name': 'Appu', 'grade': 'B', 'Address': 'India'}\n",
      "{'name': 'Appu', 'grade': 'B', 'Address': 'India'}\n"
     ]
    }
   ],
   "source": [
    "## Shallow Copy\n",
    "student_copy=student\n",
    "print(student)\n",
    "print(student_copy)\n",
    "\n"
   ]
  },
  {
   "cell_type": "code",
   "execution_count": 22,
   "metadata": {},
   "outputs": [
    {
     "name": "stdout",
     "output_type": "stream",
     "text": [
      "{'name': 'Appu2', 'grade': 'B', 'Address': 'India'}\n",
      "{'name': 'Appu2', 'grade': 'B', 'Address': 'India'}\n"
     ]
    }
   ],
   "source": [
    "student[\"name\"]=\"Appu2\"\n",
    "print(student)\n",
    "print(student_copy)"
   ]
  },
  {
   "cell_type": "code",
   "execution_count": null,
   "metadata": {},
   "outputs": [
    {
     "name": "stdout",
     "output_type": "stream",
     "text": [
      "{'name': 'Appu2', 'grade': 'B', 'Address': 'India'}\n",
      "{'name': 'Appu2', 'grade': 'B', 'Address': 'India'}\n"
     ]
    }
   ],
   "source": [
    "student_copy1=student.copy()\n",
    "#shallow copy: allocates a different memory, takes this variable and gives its reference to another memory which has the value we want to store\n",
    "print(student_copy1)\n",
    "print(student)"
   ]
  },
  {
   "cell_type": "code",
   "execution_count": 27,
   "metadata": {},
   "outputs": [
    {
     "name": "stdout",
     "output_type": "stream",
     "text": [
      "{'name': 'Apurva', 'grade': 'B', 'Address': 'India'}\n",
      "{'name': 'Appu2', 'grade': 'B', 'Address': 'India'}\n"
     ]
    }
   ],
   "source": [
    "student[\"name\"]=\"Apurva\"\n",
    "print(student)\n",
    "print(student_copy1)"
   ]
  },
  {
   "cell_type": "code",
   "execution_count": null,
   "metadata": {},
   "outputs": [
    {
     "name": "stdout",
     "output_type": "stream",
     "text": [
      "name\n",
      "grade\n",
      "Address\n"
     ]
    }
   ],
   "source": [
    "# Iterating over dictionaries\n",
    "#You can use loops to iterate over dictionaries: keys, values, items\n",
    "\n",
    "#iterating over keys\n",
    "for keys in student.keys():\n",
    "    print(keys)\n",
    "\n"
   ]
  },
  {
   "cell_type": "code",
   "execution_count": 32,
   "metadata": {},
   "outputs": [
    {
     "name": "stdout",
     "output_type": "stream",
     "text": [
      "Apurva\n",
      "B\n",
      "India\n"
     ]
    }
   ],
   "source": [
    "#Iterate over values\n",
    "for value in student.values():\n",
    "    print(value)\n"
   ]
  },
  {
   "cell_type": "code",
   "execution_count": 40,
   "metadata": {},
   "outputs": [
    {
     "name": "stdout",
     "output_type": "stream",
     "text": [
      "key: name value: Apurva\n",
      "key: grade value: B\n",
      "key: Address value: India\n"
     ]
    }
   ],
   "source": [
    "# Iterate over key value pairs\n",
    "for key, value in student.items():\n",
    "    print(f\"key: {key} value: {value}\")"
   ]
  },
  {
   "cell_type": "code",
   "execution_count": 45,
   "metadata": {},
   "outputs": [
    {
     "name": "stdout",
     "output_type": "stream",
     "text": [
      "{'student1': {'name': 'Appu', 'age': 29}, 'student2': {'name': 'Souru', 'age': 30}}\n"
     ]
    }
   ],
   "source": [
    "# Nested dictionaries\n",
    "students ={\n",
    "    \"student1\" : {\"name\": \"Appu\", \"age\": 29}, \n",
    "    \"student2\" : {\"name\": \"Souru\", \"age\": 30}\n",
    "}\n",
    "print(students)"
   ]
  },
  {
   "cell_type": "code",
   "execution_count": null,
   "metadata": {},
   "outputs": [
    {
     "name": "stdout",
     "output_type": "stream",
     "text": [
      "Souru\n",
      "30\n"
     ]
    }
   ],
   "source": [
    "# Access nested dictionaries\n",
    "print(students[\"student2\"][\"name\"])\n",
    "print(students[\"student2\"][\"age\"])"
   ]
  },
  {
   "cell_type": "code",
   "execution_count": null,
   "metadata": {},
   "outputs": [
    {
     "data": {
      "text/plain": [
       "dict_items([('student1', {'name': 'Appu', 'age': 29}), ('student2', {'name': 'Souru', 'age': 30})])"
      ]
     },
     "execution_count": 62,
     "metadata": {},
     "output_type": "execute_result"
    }
   ],
   "source": [
    "students.items()"
   ]
  },
  {
   "cell_type": "code",
   "execution_count": 65,
   "metadata": {},
   "outputs": [
    {
     "name": "stdout",
     "output_type": "stream",
     "text": [
      "student1:{'name': 'Appu', 'age': 29}\n",
      "name:Appu\n",
      "age:29\n",
      "student2:{'name': 'Souru', 'age': 30}\n",
      "name:Souru\n",
      "age:30\n"
     ]
    }
   ],
   "source": [
    "#Iterating over nested dictionaries\n",
    "for student_id, student_info in students.items():\n",
    "    print(f\"{student_id}:{student_info}\")\n",
    "    for key, value in student_info.items():\n",
    "        print(f\"{key}:{value}\")"
   ]
  },
  {
   "cell_type": "code",
   "execution_count": 113,
   "metadata": {},
   "outputs": [
    {
     "name": "stdout",
     "output_type": "stream",
     "text": [
      "{1: 1, 2: 4, 3: 9, 4: 16, 5: 25, 6: 36, 7: 49, 8: 64, 9: 81}\n"
     ]
    }
   ],
   "source": [
    "# Dictionary comprehension\n",
    "squares ={}\n",
    "for i in range(1,10):\n",
    "    squares[i]=i**2\n",
    "    i=i+1\n",
    "print(squares)\n"
   ]
  },
  {
   "cell_type": "code",
   "execution_count": 111,
   "metadata": {},
   "outputs": [
    {
     "name": "stdout",
     "output_type": "stream",
     "text": [
      "{0: 0, 1: 1, 2: 4, 3: 9, 4: 16, 5: 25, 6: 36, 7: 49, 8: 64, 9: 81}\n"
     ]
    }
   ],
   "source": [
    "# Dictionary comprehension\n",
    "\n",
    "squares ={x:x**2 for x in range(10)}\n",
    "print(squares)"
   ]
  },
  {
   "cell_type": "code",
   "execution_count": 119,
   "metadata": {},
   "outputs": [
    {
     "name": "stdout",
     "output_type": "stream",
     "text": [
      "{0: 0, 2: 4, 4: 16, 6: 36, 8: 64, 10: 100}\n"
     ]
    }
   ],
   "source": [
    "#Conditional dictionary comprehension\n",
    "squares2={}\n",
    "for i in range(0,10+1):\n",
    "    if i%2==0: \n",
    "        squares2[i]= i**2\n",
    "print(squares2)"
   ]
  },
  {
   "cell_type": "code",
   "execution_count": 118,
   "metadata": {},
   "outputs": [
    {
     "name": "stdout",
     "output_type": "stream",
     "text": [
      "{1: 1, 3: 9, 5: 25, 7: 49, 9: 81}\n"
     ]
    }
   ],
   "source": [
    "squares3={i:i**2 for i in range(0,10) if i%2!=0}\n",
    "print(squares3)\n"
   ]
  },
  {
   "cell_type": "code",
   "execution_count": null,
   "metadata": {},
   "outputs": [
    {
     "name": "stdout",
     "output_type": "stream",
     "text": [
      "{1: 1, 2: 2, 3: 3, 4: 4}\n"
     ]
    }
   ],
   "source": [
    "# PRACTICAL EXAMPLES\n",
    "# Use a dictionary to count the frequency of elements in a list\n",
    "# 1:1,2:2\n",
    "numbers=[1,2,2,3,3,3,4,4,4,4]\n",
    "frequency={}\n",
    "i=0\n",
    "for elem in numbers:\n",
    "    if elem in frequency.keys():\n",
    "        val = frequency.get(elem)\n",
    "        frequency[elem] = val+1\n",
    "    else:\n",
    "        frequency[elem]=1\n",
    "\n",
    "\n",
    "print(frequency)"
   ]
  },
  {
   "cell_type": "code",
   "execution_count": 129,
   "metadata": {},
   "outputs": [
    {
     "name": "stdout",
     "output_type": "stream",
     "text": [
      "{1: 1, 2: 2, 3: 3, 4: 4}\n"
     ]
    }
   ],
   "source": [
    "# Use a dictionary to count the frequency of elements in a list \n",
    "numbers=[1,2,2,3,3,3,4,4,4,4]\n",
    "frequency={}\n",
    "for num in numbers:\n",
    "    if num in frequency:\n",
    "        frequency[num]=frequency[num]+1\n",
    "    else: \n",
    "        frequency[num]=1\n",
    "print(frequency)\n",
    "            "
   ]
  },
  {
   "cell_type": "code",
   "execution_count": null,
   "metadata": {},
   "outputs": [],
   "source": [
    "# Merge 2 dictionaries into one \n",
    "dict1 = {\"a\":1, \"b\":2}\n",
    "dict2 = {\"b\":3, \"c\":4}\n",
    "merged_dict = "
   ]
  },
  {
   "cell_type": "code",
   "execution_count": null,
   "metadata": {},
   "outputs": [],
   "source": []
  }
 ],
 "metadata": {
  "kernelspec": {
   "display_name": "Python 3",
   "language": "python",
   "name": "python3"
  },
  "language_info": {
   "codemirror_mode": {
    "name": "ipython",
    "version": 3
   },
   "file_extension": ".py",
   "mimetype": "text/x-python",
   "name": "python",
   "nbconvert_exporter": "python",
   "pygments_lexer": "ipython3",
   "version": "3.12.0"
  }
 },
 "nbformat": 4,
 "nbformat_minor": 2
}
