{
 "cells": [
  {
   "cell_type": "markdown",
   "id": "53e47d95",
   "metadata": {},
   "source": [
    "# List_Examples"
   ]
  },
  {
   "cell_type": "markdown",
   "id": "639352f7",
   "metadata": {},
   "source": [
    "### 1. Manage a to-do list\n"
   ]
  },
  {
   "cell_type": "code",
   "execution_count": 7,
   "id": "d36e3737",
   "metadata": {},
   "outputs": [
    {
     "name": "stdout",
     "output_type": "stream",
     "text": [
      "['Buy groceries', 'Clean the house', 'Pay bills', 'Schedule meeting', 'Go for a run']\n"
     ]
    }
   ],
   "source": [
    "to_do_list = [\"Buy groceries\", \"Clean the house\", \"Pay bills\"]\n",
    "\n",
    "#Adding tasks to the to-do list\n",
    "to_do_list.append(\"Schedule meeting\")\n",
    "to_do_list.append(\"Go for a run\")\n",
    "\n",
    "print(to_do_list)\n"
   ]
  },
  {
   "cell_type": "code",
   "execution_count": 8,
   "id": "510d8ae7",
   "metadata": {},
   "outputs": [
    {
     "name": "stdout",
     "output_type": "stream",
     "text": [
      "['Buy groceries', 'Pay bills', 'Schedule meeting', 'Go for a run']\n"
     ]
    }
   ],
   "source": [
    "#Removing completed tasks\n",
    "to_do_list.remove(\"Clean the house\")\n",
    "print(to_do_list)"
   ]
  },
  {
   "cell_type": "code",
   "execution_count": 10,
   "id": "46fd25a9",
   "metadata": {},
   "outputs": [
    {
     "name": "stdout",
     "output_type": "stream",
     "text": [
      "Don't forget to pay the utility bills\n",
      "To-do list remaining\n",
      "-Buy groceries\n",
      "-Pay bills\n",
      "-Schedule meeting\n",
      "-Go for a run\n"
     ]
    }
   ],
   "source": [
    "#Checking if a task is in the list\n",
    "if \"Pay bills\" in to_do_list:\n",
    "    print(\"Don't forget to pay the utility bills\")\n",
    "\n",
    "print(\"To-do list remaining\")\n",
    "\n",
    "for task in to_do_list:\n",
    "    print(f\"-{task}\")"
   ]
  },
  {
   "cell_type": "markdown",
   "id": "508ad1a5",
   "metadata": {},
   "source": [
    "### 2. Organizing Student grades\n",
    "\n"
   ]
  },
  {
   "cell_type": "code",
   "execution_count": 20,
   "id": "11aaeef3",
   "metadata": {},
   "outputs": [
    {
     "name": "stdout",
     "output_type": "stream",
     "text": [
      "Average grade: 88.00\n",
      "Highest grade: 95\n",
      "Lowest grade: 78\n"
     ]
    }
   ],
   "source": [
    "# Organizing student grades (Calculate average grades for students)\n",
    "grades=[85, 92, 78, 90, 88]\n",
    "\n",
    "# Adding new grade\n",
    "grades.append(95) \n",
    "\n",
    "# Calculating average grade\n",
    "average_grade=sum(grades)/len(grades)\n",
    "print(f\"Average grade: {average_grade:.2f}\") #.2f means \"Format the number as a float with 2 digits after the decimal point.\"\n",
    "\n",
    "# Finding highest and lowest grades\n",
    "highest_grade = max(grades)\n",
    "lowest_grade = min(grades)\n",
    "\n",
    "print(f\"Highest grade: {highest_grade}\")\n",
    "print(f\"Lowest grade: {lowest_grade}\")"
   ]
  },
  {
   "cell_type": "markdown",
   "id": "89437ba0",
   "metadata": {},
   "source": [
    "### 3. Manage an inventory"
   ]
  },
  {
   "cell_type": "code",
   "execution_count": 23,
   "id": "f889f3c1",
   "metadata": {},
   "outputs": [
    {
     "name": "stdout",
     "output_type": "stream",
     "text": [
      "Oranges are in stock\n",
      "-Apples\n",
      "-Oranges\n",
      "-Grapes\n",
      "-Strawberries\n"
     ]
    }
   ],
   "source": [
    "# Items in a store\n",
    "inventory=[\"Apples\", \"Bananas\", \"Oranges\", \"Grapes\"]\n",
    "\n",
    "#Adding new item\n",
    "inventory.append(\"Strawberries\")\n",
    "\n",
    "#Removing an item\n",
    "inventory.remove(\"Bananas\")\n",
    "\n",
    "#Checking if an item is in stock\n",
    "item=\"Oranges\"\n",
    "if item in inventory:\n",
    "    print(f\"{item} are in stock\")\n",
    "else:\n",
    "    print(f\"{item} are out of stock\")\n",
    "\n",
    "#printing the inventory\n",
    "for item in inventory:\n",
    "    print(f\"-{item}\")"
   ]
  },
  {
   "cell_type": "markdown",
   "id": "f474a4b1",
   "metadata": {},
   "source": [
    "### 3. Collecting User feedback\n"
   ]
  },
  {
   "cell_type": "code",
   "execution_count": null,
   "id": "56588847",
   "metadata": {},
   "outputs": [
    {
     "name": "stdout",
     "output_type": "stream",
     "text": [
      "Positive feedback count:2\n",
      "> Great service!\n",
      "> Very satisfied\n",
      "> Could be better\n",
      "> Excellent experience\n",
      "> Not happy with the service!\n"
     ]
    }
   ],
   "source": [
    "feedback=[\"Great service!\", \"Very satisfied\", \"Could be better\", \"Excellent experience\"]\n",
    "\n",
    "feedback.append(\"Not happy with the service!\")\n",
    "\n",
    "#Counting specific feedback\n",
    "positive_feedback_count=sum(1 for comment in feedback if \"great\" in comment.lower() or \"excellent\" in comment.lower()) #generator expression\n",
    "print(f\"Positive feedback count:{positive_feedback_count}\")\n",
    "\n",
    "#printing all feedbacks\n",
    "for comment in feedback:\n",
    "    print(f\"> {comment}\")\n"
   ]
  },
  {
   "cell_type": "code",
   "execution_count": null,
   "id": "c605a732",
   "metadata": {},
   "outputs": [],
   "source": []
  },
  {
   "cell_type": "code",
   "execution_count": null,
   "id": "4d2a291d",
   "metadata": {},
   "outputs": [],
   "source": []
  },
  {
   "cell_type": "code",
   "execution_count": null,
   "id": "ab34aa21",
   "metadata": {},
   "outputs": [],
   "source": []
  },
  {
   "cell_type": "code",
   "execution_count": null,
   "id": "57a52e87",
   "metadata": {},
   "outputs": [],
   "source": []
  },
  {
   "cell_type": "code",
   "execution_count": null,
   "id": "a9c327da",
   "metadata": {},
   "outputs": [],
   "source": []
  }
 ],
 "metadata": {
  "kernelspec": {
   "display_name": "Python 3",
   "language": "python",
   "name": "python3"
  },
  "language_info": {
   "codemirror_mode": {
    "name": "ipython",
    "version": 3
   },
   "file_extension": ".py",
   "mimetype": "text/x-python",
   "name": "python",
   "nbconvert_exporter": "python",
   "pygments_lexer": "ipython3",
   "version": "3.12.0"
  }
 },
 "nbformat": 4,
 "nbformat_minor": 5
}
