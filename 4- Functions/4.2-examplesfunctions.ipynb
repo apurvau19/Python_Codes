{
 "cells": [
  {
   "cell_type": "markdown",
   "metadata": {},
   "source": [
    "#### Functions Examples\n"
   ]
  },
  {
   "cell_type": "markdown",
   "metadata": {},
   "source": [
    "#### Example 1: Temperature Conversion"
   ]
  },
  {
   "cell_type": "code",
   "execution_count": 2,
   "metadata": {},
   "outputs": [
    {
     "name": "stdout",
     "output_type": "stream",
     "text": [
      "32.0\n",
      "42.4\n"
     ]
    }
   ],
   "source": [
    "def convert_temperature(temp, unit):\n",
    "    \"\"\"This function converts temperature from Celcius to Farenheit\"\"\"\n",
    "    if unit == \"C\":\n",
    "        return temp*(9/5)+32 # Converts Celcius to Farenheit\n",
    "    elif unit == \"F\":\n",
    "        return temp-32*(9/5)\n",
    "    else:\n",
    "        return None\n",
    "    \n",
    "print(convert_temperature(0,'C'))\n",
    "print(convert_temperature(100,\"F\"))"
   ]
  },
  {
   "cell_type": "markdown",
   "metadata": {},
   "source": [
    "##### Example 2: Password Strength Checker"
   ]
  },
  {
   "cell_type": "code",
   "execution_count": null,
   "metadata": {},
   "outputs": [
    {
     "name": "stdout",
     "output_type": "stream",
     "text": [
      "False\n",
      "True\n"
     ]
    }
   ],
   "source": [
    "def is_strong_pw(password):\n",
    "    \"\"\"This function checks if the password is strong or not\"\"\"\n",
    "    if len(password)<8:\n",
    "        return False\n",
    "    if not any(char.isdigit() for char in password):\n",
    "        return False\n",
    "    if not any(char.islower() for char in password):\n",
    "        return False\n",
    "    if not any(char.isupper() for char in password):\n",
    "        return False\n",
    "    if not any(char in '!@#$%^&*()_+-=' for char in password):\n",
    "        return False\n",
    "    return True\n",
    "    \n",
    "print(is_strong_pw(\"WeakPwd\")) \n",
    "print(is_strong_pw(\"$tr0ngPwd\"))\n",
    "\n"
   ]
  },
  {
   "cell_type": "markdown",
   "metadata": {},
   "source": [
    "##### Example 3: Calculate the Total Cost Of Items In a Shopping Cart"
   ]
  },
  {
   "cell_type": "code",
   "execution_count": 41,
   "metadata": {},
   "outputs": [
    {
     "name": "stdout",
     "output_type": "stream",
     "text": [
      "72\n"
     ]
    }
   ],
   "source": [
    "cart =[\n",
    "    {'name': 'apple', 'price': 10, 'quantity': 3},\n",
    "    {'name': 'banana', 'price': 5, 'quantity': 6},\n",
    "    {'name': 'orange', 'price': 3, 'quantity': 4}\n",
    "    ]\n",
    "\n",
    "\n",
    "def Clac_total_cost(cart):\n",
    "    total_cost=0\n",
    "    for item in cart:\n",
    "        total_cost += item[\"price\"]* item[\"quantity\"] \n",
    "        # print(total_cost)\n",
    "    return total_cost\n",
    "\n",
    "print(Clac_total_cost(cart))\n"
   ]
  },
  {
   "cell_type": "markdown",
   "metadata": {},
   "source": [
    "##### Example 4: Check IF a String Is Palindrome"
   ]
  },
  {
   "cell_type": "code",
   "execution_count": null,
   "metadata": {},
   "outputs": [
    {
     "name": "stdout",
     "output_type": "stream",
     "text": [
      "String is a palindrome:True\n"
     ]
    }
   ],
   "source": [
    "string1 = \"madam\"\n",
    "string2 = \"cbadaeiqqieadtbc\"\n",
    "\n",
    "#palindrome can be found in 3 ways\n",
    "# 1. if number divide by 10 take remainder add to form reverse and check if reverse=original\n",
    "# 2. If string create reverse and check if reverse=original\n",
    "# 3. two pointer approach\n",
    "\n",
    "\n",
    "def string_palindrome(input_string):\n",
    "    \n",
    "    first_index = 0\n",
    "    last_index = len(input_string)-1\n",
    "    while first_index<=last_index:\n",
    "        if not input_string[first_index]==input_string[last_index]:\n",
    "            return False\n",
    "        first_index+=1\n",
    "        last_index-=1\n",
    "    return True\n",
    "\n",
    "print(f\"String is a palindrome:{string_palindrome(string1)}\")"
   ]
  },
  {
   "cell_type": "code",
   "execution_count": null,
   "metadata": {},
   "outputs": [
    {
     "name": "stdout",
     "output_type": "stream",
     "text": [
      "String is a palindrome: True \n"
     ]
    }
   ],
   "source": [
    "string1=\"Yemen\"\n",
    "string2=\"madam\"\n",
    "string3=\"dog is goddogsi god\"\n",
    "def string_palindrome(any_string):\n",
    "    first_index=0\n",
    "    last_index=len(any_string)-1\n",
    "    while first_index<=last_index:\n",
    "        if any_string[first_index]!=any_string[last_index]:\n",
    "            return False\n",
    "        first_index+=1\n",
    "        last_index-=1\n",
    "    return True\n",
    "\n",
    "print(f\"String is a palindrome: {string_palindrome(string3)} \")"
   ]
  },
  {
   "cell_type": "code",
   "execution_count": null,
   "metadata": {},
   "outputs": [],
   "source": [
    "string1=\"Yemen\"\n",
    "string2=\"madam\"\n",
    "string3=\"dog is god dog si god\"\n",
    "def string_palindrome(any_string):\n",
    "    any_string = any_string.lower().replace(\" \",\"\") #\n",
    "    \n",
    "\n",
    "\n",
    "print(string_palindrome())"
   ]
  },
  {
   "cell_type": "code",
   "execution_count": 78,
   "metadata": {},
   "outputs": [
    {
     "name": "stdout",
     "output_type": "stream",
     "text": [
      "[1, 1, 2, 1, 4, 0, 0, 0, 0]\n"
     ]
    }
   ],
   "source": [
    "#move all zeros to end of num1 and num1 can be any order\n",
    "list1 = [0,1,2,0,0,4,1,0,1]\n",
    "\n",
    "def move_zeros(num_list):\n",
    "    start = 0\n",
    "    end = len(num_list)-1\n",
    "\n",
    "    while start<=end:\n",
    "        if num_list[start]==0 and num_list[end]!=0:\n",
    "            num_list[start],num_list[end] =  num_list[end],num_list[start]\n",
    "            end-=1\n",
    "            start+=1\n",
    "        elif num_list[start]==0 and num_list[end]==0:\n",
    "            end-=1\n",
    "        else:\n",
    "            start+=1\n",
    "        \n",
    "    return num_list\n",
    "\n",
    "\n",
    "result_list = move_zeros(list1)\n",
    "\n",
    "print(result_list)"
   ]
  },
  {
   "cell_type": "markdown",
   "metadata": {},
   "source": [
    "##### Example 5: Calculate the factorials of a number using recursion"
   ]
  },
  {
   "cell_type": "code",
   "execution_count": null,
   "metadata": {},
   "outputs": [],
   "source": []
  },
  {
   "cell_type": "markdown",
   "metadata": {},
   "source": [
    "##### Example 6: A Function To Read A File and count the frequency of each word"
   ]
  },
  {
   "cell_type": "code",
   "execution_count": null,
   "metadata": {},
   "outputs": [],
   "source": []
  },
  {
   "cell_type": "markdown",
   "metadata": {},
   "source": [
    "##### Example 7: Validate Email Address"
   ]
  },
  {
   "cell_type": "code",
   "execution_count": null,
   "metadata": {},
   "outputs": [],
   "source": []
  }
 ],
 "metadata": {
  "kernelspec": {
   "display_name": "Python 3",
   "language": "python",
   "name": "python3"
  },
  "language_info": {
   "codemirror_mode": {
    "name": "ipython",
    "version": 3
   },
   "file_extension": ".py",
   "mimetype": "text/x-python",
   "name": "python",
   "nbconvert_exporter": "python",
   "pygments_lexer": "ipython3",
   "version": "3.12.0"
  }
 },
 "nbformat": 4,
 "nbformat_minor": 2
}
