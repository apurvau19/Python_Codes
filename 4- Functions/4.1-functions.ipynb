{
  "cells": [
    {
      "cell_type": "code",
      "execution_count": null,
      "metadata": {
        "colab": {
          "base_uri": "https://localhost:8080/"
        },
        "id": "lylRuJ1FgSL1",
        "outputId": "ec67b7f8-aabc-428f-b398-f1278e80eb35"
      },
      "outputs": [
        {
          "name": "stdout",
          "output_type": "stream",
          "text": [
            "Enter any number10\n",
            "num is even\n"
          ]
        }
      ],
      "source": [
        "num =int(input(\"Enter any number\"))\n",
        "if num%2==0:\n",
        "    print(\"num is even\")\n",
        "else:\n",
        "    print(\"the num is odd\")"
      ]
    },
    {
      "cell_type": "code",
      "execution_count": null,
      "metadata": {
        "id": "oywg7utDgViu"
      },
      "outputs": [],
      "source": [
        "def even_or_odd(num):\n",
        "  \"\"\"This function finds even or odd\"\"\"\n",
        "  if num%2==2:\n",
        "    print(\"The number is even\")\n",
        "  else:\n",
        "    print(\"The number is odd\")"
      ]
    },
    {
      "cell_type": "code",
      "execution_count": null,
      "metadata": {
        "colab": {
          "base_uri": "https://localhost:8080/"
        },
        "id": "-eCjKB7GgV4Q",
        "outputId": "06b907df-63f3-42e1-d355-c13aea24e608"
      },
      "outputs": [
        {
          "name": "stdout",
          "output_type": "stream",
          "text": [
            "The number is odd\n"
          ]
        }
      ],
      "source": [
        "## Call this function\n",
        "even_or_odd(10)"
      ]
    },
    {
      "cell_type": "code",
      "execution_count": null,
      "metadata": {
        "colab": {
          "base_uri": "https://localhost:8080/"
        },
        "id": "gDMwqgcmkt_K",
        "outputId": "28132848-5c5e-4574-eca2-1f2556f55511"
      },
      "outputs": [
        {
          "name": "stdout",
          "output_type": "stream",
          "text": [
            "6\n"
          ]
        }
      ],
      "source": [
        "# Function with multiple parameters\n",
        "def add(a,b):\n",
        " return a+b\n",
        "\n",
        "result = add(2,4)\n",
        "print(result)"
      ]
    },
    {
      "cell_type": "code",
      "execution_count": null,
      "metadata": {
        "colab": {
          "base_uri": "https://localhost:8080/"
        },
        "id": "GBblQj0KlEwu",
        "outputId": "18c4893f-edb0-4fd0-cc07-5f736a84d8c2"
      },
      "outputs": [
        {
          "name": "stdout",
          "output_type": "stream",
          "text": [
            "Hello Appu, welcome to the paradise!\n"
          ]
        }
      ],
      "source": [
        "# Default parameters\n",
        "def greet(name):\n",
        "  print(f\"Hello {name}, welcome to the paradise!\")\n",
        "\n",
        "greet(\"Appu\")"
      ]
    },
    {
      "cell_type": "code",
      "execution_count": null,
      "metadata": {
        "colab": {
          "base_uri": "https://localhost:8080/",
          "height": 176
        },
        "id": "0IccK28ylEs_",
        "outputId": "bda793a7-cf4e-442e-92bd-56a0df4d14a6"
      },
      "outputs": [
        {
          "ename": "TypeError",
          "evalue": "greet() missing 1 required positional argument: 'name'",
          "output_type": "error",
          "traceback": [
            "\u001b[0;31m---------------------------------------------------------------------------\u001b[0m",
            "\u001b[0;31mTypeError\u001b[0m                                 Traceback (most recent call last)",
            "\u001b[0;32m<ipython-input-8-c578b2ba543e>\u001b[0m in \u001b[0;36m<cell line: 0>\u001b[0;34m()\u001b[0m\n\u001b[1;32m      2\u001b[0m   \u001b[0mprint\u001b[0m\u001b[0;34m(\u001b[0m\u001b[0;34mf\"Hello {name}, welcome to the paradise!\"\u001b[0m\u001b[0;34m)\u001b[0m\u001b[0;34m\u001b[0m\u001b[0;34m\u001b[0m\u001b[0m\n\u001b[1;32m      3\u001b[0m \u001b[0;34m\u001b[0m\u001b[0m\n\u001b[0;32m----> 4\u001b[0;31m \u001b[0mgreet\u001b[0m\u001b[0;34m(\u001b[0m\u001b[0;34m)\u001b[0m\u001b[0;34m\u001b[0m\u001b[0;34m\u001b[0m\u001b[0m\n\u001b[0m",
            "\u001b[0;31mTypeError\u001b[0m: greet() missing 1 required positional argument: 'name'"
          ]
        }
      ],
      "source": [
        "def greet(name):\n",
        "  print(f\"Hello {name}, welcome to the paradise!\")\n",
        "\n",
        "greet()"
      ]
    },
    {
      "cell_type": "code",
      "execution_count": null,
      "metadata": {
        "colab": {
          "base_uri": "https://localhost:8080/"
        },
        "id": "g85qh5j8nToa",
        "outputId": "85ac49ed-fe20-4587-a84b-477446746eb3"
      },
      "outputs": [
        {
          "name": "stdout",
          "output_type": "stream",
          "text": [
            "Hello Guest, welcome to the paradise\n"
          ]
        }
      ],
      "source": [
        "#To avoid this error, give a default value\n",
        "def greet(name=\"Guest\"):\n",
        "  print(f\"Hello {name}, welcome to the paradise\")\n",
        "\n",
        "greet()"
      ]
    },
    {
      "cell_type": "code",
      "execution_count": null,
      "metadata": {
        "colab": {
          "base_uri": "https://localhost:8080/"
        },
        "id": "jxJfVgirnTlj",
        "outputId": "71b5fa9c-c80e-403a-c14c-305191da7180"
      },
      "outputs": [
        {
          "name": "stdout",
          "output_type": "stream",
          "text": [
            "1\n",
            "3\n",
            "4\n",
            "6\n",
            "8\n",
            "5\n",
            "76\n",
            "Apu\n"
          ]
        }
      ],
      "source": [
        "#Variable length arguments\n",
        "#Positional and keyword arguements\n",
        "\n",
        "#Positional arguments\n",
        "def print_numbers(*args):\n",
        "  for number in args:\n",
        "    print(number)\n",
        "\n",
        "print_numbers(1,3,4,6,8,5,76,'Apu')"
      ]
    },
    {
      "cell_type": "code",
      "execution_count": null,
      "metadata": {
        "colab": {
          "base_uri": "https://localhost:8080/"
        },
        "id": "T2enq4DdnTjy",
        "outputId": "3eb86a7e-ae4c-4e98-db92-7a2210a9d6d6"
      },
      "outputs": [
        {
          "name": "stdout",
          "output_type": "stream",
          "text": [
            "name, Apurva\n",
            "age, 100\n",
            "address, India\n"
          ]
        }
      ],
      "source": [
        "#Keywords arguments\n",
        "# Here all the parameters will be in the form of key-value pairs\n",
        "\n",
        "def print_details(**kwargs):\n",
        "  for key, value in kwargs.items():\n",
        "    print(f\"{key}, {value}\")\n",
        "\n",
        "print_details(name=\"Apurva\",age= 100, address= \"India\")"
      ]
    },
    {
      "cell_type": "code",
      "execution_count": 1,
      "metadata": {
        "colab": {
          "base_uri": "https://localhost:8080/"
        },
        "id": "3BYR89ACnTX5",
        "outputId": "3b2ff54c-1d68-4d5e-fd5a-bd3576d94d89"
      },
      "outputs": [
        {
          "name": "stdout",
          "output_type": "stream",
          "text": [
            "positional argument : 1\n",
            "positional argument : 2\n",
            "positional argument : 3\n",
            "positional argument : 4\n",
            "positional argument : 5\n",
            "positional argument : 6\n",
            "key-value pair: name, Apurva\n",
            "key-value pair: age, 100\n",
            "key-value pair: address, India\n"
          ]
        }
      ],
      "source": [
        "def print_all(*args, **kwargs):\n",
        "  for val in args:\n",
        "    print(f\"positional argument : {val}\")\n",
        "\n",
        "  for key, value in kwargs.items():\n",
        "    print(f\"key-value pair: {key}, {value}\")\n",
        "\n",
        "print_all(1,2,3,4,5,6,name=\"Apurva\",age= 100, address= \"India\")"
      ]
    },
    {
      "cell_type": "code",
      "execution_count": null,
      "metadata": {
        "id": "z-BLuwvPlEpE"
      },
      "outputs": [
        {
          "name": "stdout",
          "output_type": "stream",
          "text": [
            "6\n"
          ]
        }
      ],
      "source": [
        "#RETURN STATEMENTS\n",
        "def multiply(a,b):\n",
        "    return a*b\n",
        "print(multiply(2,3))\n"
      ]
    },
    {
      "cell_type": "code",
      "execution_count": 4,
      "metadata": {
        "id": "5Vxf9-kVlEiZ"
      },
      "outputs": [
        {
          "data": {
            "text/plain": [
              "(2, 4, 8)"
            ]
          },
          "execution_count": 4,
          "metadata": {},
          "output_type": "execute_result"
        }
      ],
      "source": [
        "def multiply(a,b):\n",
        "    return a,b,a*b\n",
        "multiply(2,4)"
      ]
    },
    {
      "cell_type": "code",
      "execution_count": null,
      "metadata": {},
      "outputs": [],
      "source": []
    }
  ],
  "metadata": {
    "colab": {
      "provenance": []
    },
    "kernelspec": {
      "display_name": "Python 3",
      "name": "python3"
    },
    "language_info": {
      "codemirror_mode": {
        "name": "ipython",
        "version": 3
      },
      "file_extension": ".py",
      "mimetype": "text/x-python",
      "name": "python",
      "nbconvert_exporter": "python",
      "pygments_lexer": "ipython3",
      "version": "3.12.0"
    }
  },
  "nbformat": 4,
  "nbformat_minor": 0
}
