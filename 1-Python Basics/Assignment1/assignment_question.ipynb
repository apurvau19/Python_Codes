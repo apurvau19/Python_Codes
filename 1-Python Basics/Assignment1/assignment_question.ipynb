{
 "cells": [
  {
   "cell_type": "markdown",
   "metadata": {},
   "source": [
    "# Lesson 1.2: Python Basics\n",
    "## Topics Covered:\n",
    "- Syntax and Semantics\n",
    "- Variables and Data Types\n",
    "- Basic Operators (Arithmetic, Comparison, Logical)\n"
   ]
  },
  {
   "cell_type": "markdown",
   "metadata": {},
   "source": [
    "## 1. Syntax and Semantics\n",
    "\n",
    "**Question 1:** Write a Python program to print \"Hello, World!\"."
   ]
  },
  {
   "cell_type": "code",
   "execution_count": 1,
   "metadata": {},
   "outputs": [
    {
     "name": "stdout",
     "output_type": "stream",
     "text": [
      "Hello, World!\n"
     ]
    }
   ],
   "source": [
    "# Your code here\n",
    "print(\"Hello, World!\")"
   ]
  },
  {
   "cell_type": "markdown",
   "metadata": {},
   "source": [
    "**Question 2:** Write a Python program that takes a user input and prints it."
   ]
  },
  {
   "cell_type": "code",
   "execution_count": 2,
   "metadata": {},
   "outputs": [
    {
     "data": {
      "text/plain": [
       "'100'"
      ]
     },
     "execution_count": 2,
     "metadata": {},
     "output_type": "execute_result"
    }
   ],
   "source": [
    "# Your code here\n",
    "input(\"Enter your number\")"
   ]
  },
  {
   "cell_type": "markdown",
   "metadata": {},
   "source": [
    "**Question 3:** Write a Python program to check if a number is positive, negative, or zero."
   ]
  },
  {
   "cell_type": "code",
   "execution_count": 11,
   "metadata": {},
   "outputs": [
    {
     "name": "stdout",
     "output_type": "stream",
     "text": [
      "The number is zero\n"
     ]
    }
   ],
   "source": [
    "# Your code here\n",
    "num = float(input(\"Enter Any Number: \"))\n",
    "if (num>0):\n",
    "    print(\"The number is positive\")\n",
    "elif (num<0):\n",
    "    print(\"The number is negative\")\n",
    "else: print(\"The number is zero\")"
   ]
  },
  {
   "cell_type": "markdown",
   "metadata": {},
   "source": [
    "**Question 4:** Write a Python program to find the largest of three numbers."
   ]
  },
  {
   "cell_type": "code",
   "execution_count": 23,
   "metadata": {},
   "outputs": [
    {
     "name": "stdout",
     "output_type": "stream",
     "text": [
      "All numbers are same!\n"
     ]
    }
   ],
   "source": [
    "# Your code here\n",
    "a = float(input(\"Enter a number a: \"))\n",
    "b = float(input(\"Enter a number b: \"))\n",
    "c = float(input(\"Enter a number c: \"))\n",
    "\n",
    "if (a>b and a>c):\n",
    "    print(\"a is the highest number\")\n",
    "elif (b>a and b>c):\n",
    "    print(\"b is the highest number\")\n",
    "elif(c>a and c>b):\n",
    "    print(\"c is the highest number\")\n",
    "else: print(\"All numbers are same!\")\n"
   ]
  },
  {
   "cell_type": "markdown",
   "metadata": {},
   "source": [
    "**Question 5:** Write a Python program to calculate the factorial of a number."
   ]
  },
  {
   "cell_type": "code",
   "execution_count": null,
   "metadata": {},
   "outputs": [
    {
     "name": "stdout",
     "output_type": "stream",
     "text": [
      "120\n"
     ]
    }
   ],
   "source": [
    "# Your code here\n",
    "\n",
    "import math\n",
    "num = int(input(\"Enter any number\"))\n",
    "print(math.factorial(num))\n",
    "\n",
    "#?????????????????????????????????????????????????????????????????????????????????????????????????????????????????\n",
    "\n",
    "\n"
   ]
  },
  {
   "cell_type": "markdown",
   "metadata": {},
   "source": [
    "## 2. Variables and Data Types\n",
    "\n",
    "**Question 6:** Create variables of different data types: integer, float, string, and boolean. Print their values and types."
   ]
  },
  {
   "cell_type": "code",
   "execution_count": 72,
   "metadata": {},
   "outputs": [
    {
     "name": "stdout",
     "output_type": "stream",
     "text": [
      "The value of birthday is 190898, and its type <class 'int'>\n",
      "The value of name is Appu and its type <class 'str'>\n",
      "The value of name is 5.4 and its type <class 'float'>\n",
      "The value of name is True and its type <class 'bool'>\n",
      "s3:\\\\aws.com\n"
     ]
    }
   ],
   "source": [
    "# Your code here\n",
    "bday=190898\n",
    "name=\"Appu\"\n",
    "height=5.4\n",
    "likes_python= True\n",
    "\n",
    "print(f\"The value of birthday is {bday}, and its type {type(bday)}\")\n",
    "print(\"The value of name is\", name, \"and its type\", type(name))\n",
    "print(\"The value of name is\", height, \"and its type\", type(height))\n",
    "print(\"The value of name is\", likes_python, \"and its type\", type(likes_python))\n",
    "# print(\"s3:\\\\aws.com\")\n",
    "\n",
    "url=r\"s3:\\\\aws.com\"\n",
    "\n",
    "def connect(url):\n",
    "    print(url)\n",
    "    pass #actual code to connect to s3\n",
    "\n",
    "connect(url)\n"
   ]
  },
  {
   "cell_type": "markdown",
   "metadata": {},
   "source": [
    "**Question 7:** Write a Python program to swap the values of two variables."
   ]
  },
  {
   "cell_type": "code",
   "execution_count": 44,
   "metadata": {},
   "outputs": [
    {
     "name": "stdout",
     "output_type": "stream",
     "text": [
      "20\n",
      "20\n"
     ]
    }
   ],
   "source": [
    "# Your code here\n",
    "a = 10\n",
    "b = 20\n",
    "\n",
    "a=b\n",
    "b=a\n",
    "\n",
    "print(a)\n",
    "print(b)"
   ]
  },
  {
   "cell_type": "markdown",
   "metadata": {},
   "source": [
    "**Question 8:** Write a Python program to convert Celsius to Fahrenheit."
   ]
  },
  {
   "cell_type": "code",
   "execution_count": 48,
   "metadata": {},
   "outputs": [
    {
     "name": "stdout",
     "output_type": "stream",
     "text": [
      "0.0 degree celsius =  32.0 degree farenheit\n"
     ]
    }
   ],
   "source": [
    "# Your code here\n",
    "a = float(input(\"Enter temperature in celsius\"))\n",
    "b = a+32\n",
    "print(a, \"degree celsius = \", b, \"degree farenheit\")"
   ]
  },
  {
   "cell_type": "markdown",
   "metadata": {},
   "source": [
    "**Question 9:** Write a Python program to concatenate two strings."
   ]
  },
  {
   "cell_type": "code",
   "execution_count": 54,
   "metadata": {},
   "outputs": [
    {
     "name": "stdout",
     "output_type": "stream",
     "text": [
      "Apurva Bidikar\n"
     ]
    }
   ],
   "source": [
    "# Your code here\n",
    "\n",
    "first_name = \"Apurva\"\n",
    "last_name = \"Bidikar\"\n",
    "Full_name = first_name + \" \" + last_name\n",
    "print(Full_name)"
   ]
  },
  {
   "cell_type": "markdown",
   "metadata": {},
   "source": [
    "**Question 10:** Write a Python program to check if a variable is of a specific data type."
   ]
  },
  {
   "cell_type": "code",
   "execution_count": 88,
   "metadata": {},
   "outputs": [
    {
     "name": "stdout",
     "output_type": "stream",
     "text": [
      "Data type is string\n"
     ]
    }
   ],
   "source": [
    "# Your code here\n",
    "a = \"Souru\"\n",
    "if type(a)==int:\n",
    "    print(\"Data type is integer\")\n",
    "elif type(a)==str:\n",
    "    print(\"Data type is string\")\n",
    "else:\n",
    "    print(\"Data type is float\")"
   ]
  },
  {
   "cell_type": "markdown",
   "metadata": {},
   "source": [
    "## 3. Basic Operators (Arithmetic, Comparison, Logical)\n",
    "\n",
    "**Question 11:** Write a Python program to perform arithmetic operations: addition, subtraction, multiplication, and division."
   ]
  },
  {
   "cell_type": "code",
   "execution_count": 95,
   "metadata": {},
   "outputs": [
    {
     "name": "stdout",
     "output_type": "stream",
     "text": [
      "sum 1.0 + 1.0 = 2.0\n"
     ]
    }
   ],
   "source": [
    "# Your code here\n",
    "a = float(input(\"Enter any number a\"))\n",
    "b = float(input(\"Enter any number b\"))\n",
    "sum=a+b\n",
    "print(f\"sum {a} + {b} = {sum}\")\n",
    "\n"
   ]
  },
  {
   "cell_type": "markdown",
   "metadata": {},
   "source": [
    "**Question 12:** Write a Python program to demonstrate comparison operators: equal to, not equal to, greater than, less than."
   ]
  },
  {
   "cell_type": "code",
   "execution_count": 101,
   "metadata": {},
   "outputs": [
    {
     "data": {
      "text/plain": [
       "True"
      ]
     },
     "execution_count": 101,
     "metadata": {},
     "output_type": "execute_result"
    }
   ],
   "source": [
    "# Your code here\n",
    "A=10\n",
    "B=10\n",
    "C=20\n",
    "A==B\n",
    "\n"
   ]
  },
  {
   "cell_type": "code",
   "execution_count": 102,
   "metadata": {},
   "outputs": [
    {
     "data": {
      "text/plain": [
       "True"
      ]
     },
     "execution_count": 102,
     "metadata": {},
     "output_type": "execute_result"
    }
   ],
   "source": [
    "A!=C\n"
   ]
  },
  {
   "cell_type": "code",
   "execution_count": 103,
   "metadata": {},
   "outputs": [
    {
     "data": {
      "text/plain": [
       "True"
      ]
     },
     "execution_count": 103,
     "metadata": {},
     "output_type": "execute_result"
    }
   ],
   "source": [
    "C>B\n"
   ]
  },
  {
   "cell_type": "code",
   "execution_count": 104,
   "metadata": {},
   "outputs": [
    {
     "data": {
      "text/plain": [
       "True"
      ]
     },
     "execution_count": 104,
     "metadata": {},
     "output_type": "execute_result"
    }
   ],
   "source": [
    "A<C"
   ]
  },
  {
   "cell_type": "markdown",
   "metadata": {},
   "source": [
    "**Question 13:** Write a Python program to demonstrate logical operators: and, or, not."
   ]
  },
  {
   "cell_type": "code",
   "execution_count": 120,
   "metadata": {},
   "outputs": [
    {
     "name": "stdout",
     "output_type": "stream",
     "text": [
      "True\n",
      "True\n"
     ]
    }
   ],
   "source": [
    "# Your code here\n",
    "x=True\n",
    "y=True\n",
    "z=False\n",
    "z2=False\n",
    "\n",
    "result = x or y\n",
    "Result = x and y\n",
    "\n",
    "print(result)\n",
    "print(Result)"
   ]
  },
  {
   "cell_type": "code",
   "execution_count": null,
   "metadata": {},
   "outputs": [
    {
     "name": "stdout",
     "output_type": "stream",
     "text": [
      "True\n",
      "False\n",
      "False\n",
      "False\n"
     ]
    }
   ],
   "source": [
    "result2 = x and z\n",
    "result3 = x or z\n",
    "Result2 = z or z2\n",
    "Result3 = z and z2\n",
    "\n",
    "print(result3)\n",
    "print(result2)\n",
    "print(Result2)\n",
    "print(Result3)"
   ]
  },
  {
   "cell_type": "markdown",
   "metadata": {},
   "source": [
    "**Question 14:** Write a Python program to calculate the square of a number."
   ]
  },
  {
   "cell_type": "code",
   "execution_count": 124,
   "metadata": {},
   "outputs": [
    {
     "name": "stdout",
     "output_type": "stream",
     "text": [
      "The square of 4.0 is = 16.0\n"
     ]
    }
   ],
   "source": [
    "# Your code here\n",
    "a = float(input(\"Enter number\"))\n",
    "square = a*a\n",
    "print(f\"The square of {a} is = {square}\")"
   ]
  },
  {
   "cell_type": "markdown",
   "metadata": {},
   "source": [
    "**Question 15:** Write a Python program to check if a number is even or odd."
   ]
  },
  {
   "cell_type": "code",
   "execution_count": 135,
   "metadata": {},
   "outputs": [
    {
     "name": "stdout",
     "output_type": "stream",
     "text": [
      "1826463897464628790 is an odd number\n"
     ]
    }
   ],
   "source": [
    "# Your code here\n",
    "A = int(input(\"Enter any number:\"))\n",
    "B = A/2\n",
    "if A==B and B>=0:\n",
    "    print(f\"{A} is an even number\")\n",
    "else: print(f\"{A} is an odd number\")"
   ]
  },
  {
   "cell_type": "markdown",
   "metadata": {},
   "source": [
    "**Question 16:** Write a Python program to find the sum of the first n natural numbers."
   ]
  },
  {
   "cell_type": "code",
   "execution_count": 137,
   "metadata": {},
   "outputs": [
    {
     "name": "stdout",
     "output_type": "stream",
     "text": [
      "15.0\n"
     ]
    }
   ],
   "source": [
    "# Your code here\n",
    "a = int(input(\"Enter number\"))\n",
    "sum = a*(a+1)/2\n",
    "print(sum)"
   ]
  },
  {
   "cell_type": "code",
   "execution_count": null,
   "metadata": {},
   "outputs": [
    {
     "name": "stdout",
     "output_type": "stream",
     "text": [
      "15\n"
     ]
    }
   ],
   "source": [
    "def findSum(num):\n",
    "    if num==1:\n",
    "        return 1\n",
    "    \n",
    "    else: \n",
    "        return num + findSum(num-1)\n",
    "\n",
    "a = int(input(\"Enter number\"))\n",
    "print(findSum(a))"
   ]
  },
  {
   "cell_type": "markdown",
   "metadata": {},
   "source": [
    "**Question 17:** Write a Python program to check if a year is a leap year."
   ]
  },
  {
   "cell_type": "code",
   "execution_count": null,
   "metadata": {},
   "outputs": [],
   "source": [
    "# Your code here\n"
   ]
  },
  {
   "cell_type": "raw",
   "metadata": {
    "vscode": {
     "languageId": "raw"
    }
   },
   "source": [
    "Year\tDivisible by 4\tDivisible by 100  Divisible by 400  Leap Year?\n",
    "2020\t✅ Yes\t       ❌ No\t              ❌ No\t         ✅ Yes\n",
    "1900\t✅ Yes\t       ✅ Yes\t          ❌ No\t         ❌ No\n",
    "2000\t✅ Yes\t       ✅ Yes\t          ✅ Yes\t         ✅ Yes\n",
    "2023\t❌ No\t       ❌ No\t              ❌ No\t         ❌ No\n"
   ]
  },
  {
   "cell_type": "markdown",
   "metadata": {},
   "source": [
    "**Question 18:** Write a Python program to reverse a string."
   ]
  },
  {
   "cell_type": "code",
   "execution_count": null,
   "metadata": {},
   "outputs": [],
   "source": [
    "# Your code here"
   ]
  },
  {
   "cell_type": "markdown",
   "metadata": {},
   "source": [
    "**Question 19:** Write a Python program to check if a string is a palindrome."
   ]
  },
  {
   "cell_type": "code",
   "execution_count": null,
   "metadata": {},
   "outputs": [],
   "source": [
    "# Your code here"
   ]
  },
  {
   "cell_type": "markdown",
   "metadata": {},
   "source": [
    "**Question 20:** Write a Python program to sort a list of numbers in ascending order."
   ]
  },
  {
   "cell_type": "code",
   "execution_count": null,
   "metadata": {},
   "outputs": [],
   "source": [
    "# Your code here"
   ]
  }
 ],
 "metadata": {
  "kernelspec": {
   "display_name": "Python 3",
   "language": "python",
   "name": "python3"
  },
  "language_info": {
   "codemirror_mode": {
    "name": "ipython",
    "version": 3
   },
   "file_extension": ".py",
   "mimetype": "text/x-python",
   "name": "python",
   "nbconvert_exporter": "python",
   "pygments_lexer": "ipython3",
   "version": "3.12.0"
  }
 },
 "nbformat": 4,
 "nbformat_minor": 4
}
