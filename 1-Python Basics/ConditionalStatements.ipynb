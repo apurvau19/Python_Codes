{
 "cells": [
  {
   "cell_type": "code",
   "execution_count": 1,
   "metadata": {},
   "outputs": [
    {
     "name": "stdout",
     "output_type": "stream",
     "text": [
      "can vote for elections\n"
     ]
    }
   ],
   "source": [
    "age = 25\n",
    "if age>=18:\n",
    "    print(\"can vote for elections\")\n",
    "    "
   ]
  },
  {
   "cell_type": "code",
   "execution_count": 2,
   "metadata": {},
   "outputs": [
    {
     "data": {
      "text/plain": [
       "True"
      ]
     },
     "execution_count": 2,
     "metadata": {},
     "output_type": "execute_result"
    }
   ],
   "source": [
    "age>=18"
   ]
  },
  {
   "cell_type": "code",
   "execution_count": 5,
   "metadata": {},
   "outputs": [
    {
     "name": "stdout",
     "output_type": "stream",
     "text": [
      "minor\n"
     ]
    }
   ],
   "source": [
    "age = 16\n",
    "if age>=18:\n",
    "    print(\"can vote for elections\")\n",
    "else:\n",
    "    print(\"minor\")"
   ]
  },
  {
   "cell_type": "code",
   "execution_count": 11,
   "metadata": {},
   "outputs": [
    {
     "name": "stdout",
     "output_type": "stream",
     "text": [
      "eligible bachelor\n"
     ]
    }
   ],
   "source": [
    "age= int(input(\"Enter age\"))\n",
    "sex= input(\"Enter gender f/m/t\")\n",
    "if age>=18 and sex==\"f\":\n",
    "    print(\"eligible spinster\")\n",
    "elif age>=21 and (sex==\"m\" or sex==\"f\"):\n",
    "    if sex==\"m\":\n",
    "        print(\"eligible bachelor\")\n",
    "    else: print(\"eligible spinster\")\n",
    "else: print(f\"juvinile {sex}\")\n"
   ]
  },
  {
   "cell_type": "code",
   "execution_count": null,
   "metadata": {},
   "outputs": [],
   "source": [
    "#Examples\n",
    "# Determine year is a leap year or not using nested condition statement\n",
    "year = int(input(\"Enter year\"))\n",
    "if year %4 == 0:\n",
    "    if year %100 ==0:\n",
    "        if year %400 ==0:\n",
    "            print(year, \"Is a leap year\")\n",
    "        else:\n",
    "            print(year, \"not a leap year\")\n",
    "    else: \n",
    "        print(year, \"Is a leap year\")\n",
    "else: \n",
    "    print(year, \"not a leap year \")\n"
   ]
  }
 ],
 "metadata": {
  "kernelspec": {
   "display_name": "Python 3",
   "language": "python",
   "name": "python3"
  },
  "language_info": {
   "codemirror_mode": {
    "name": "ipython",
    "version": 3
   },
   "file_extension": ".py",
   "mimetype": "text/x-python",
   "name": "python",
   "nbconvert_exporter": "python",
   "pygments_lexer": "ipython3",
   "version": "3.12.0"
  }
 },
 "nbformat": 4,
 "nbformat_minor": 2
}
