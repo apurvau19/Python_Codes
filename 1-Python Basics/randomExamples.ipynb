{
 "cells": [
  {
   "cell_type": "code",
   "execution_count": null,
   "metadata": {},
   "outputs": [],
   "source": [
    "#pass example\n",
    "def read_from_s3_and_print:\n",
    "    read_from_s3()\n",
    "    print_it()\n",
    "    "
   ]
  },
  {
   "cell_type": "code",
   "execution_count": null,
   "metadata": {},
   "outputs": [
    {
     "name": "stdout",
     "output_type": "stream",
     "text": [
      "[7, 8, 9, 10]\n"
     ]
    }
   ],
   "source": [
    "worst_arr_list= [10,9,8,7]\n",
    "\n",
    "\n",
    "arr_list = [32,7,12,98,1,5,67]\n",
    "\n",
    "def bubble_sort(arr_list):\n",
    "    \n",
    "    n = len(arr_list)\n",
    "\n",
    "    for i in range(0,n-1):\n",
    "        for j in range(0,n-1-i):\n",
    "            if arr_list[j+1] < arr_list[j]:\n",
    "                arr_list[j+1],arr_list[j] = arr_list[j],arr_list[j+1]\n",
    "\n",
    "    \n",
    "    return arr_list\n",
    "\n",
    "sorted_list = bubble_sort(worst_arr_list)\n",
    "print(sorted_list)"
   ]
  },
  {
   "cell_type": "code",
   "execution_count": null,
   "metadata": {},
   "outputs": [
    {
     "name": "stdout",
     "output_type": "stream",
     "text": [
      "900\n",
      "901\n",
      "902\n",
      "903\n",
      "904\n",
      "905\n",
      "906\n",
      "907\n",
      "908\n",
      "909\n",
      "910\n",
      "911\n",
      "912\n",
      "913\n",
      "914\n"
     ]
    }
   ],
   "source": [
    "j=490\n",
    "for i in range(900,915):\n",
    "    print(i)\n",
    "   "
   ]
  },
  {
   "cell_type": "code",
   "execution_count": null,
   "metadata": {},
   "outputs": [
    {
     "name": "stdout",
     "output_type": "stream",
     "text": [
      "max count of cons 1's = 5\n"
     ]
    }
   ],
   "source": [
    "\n",
    "arrlist = [1,2,34,1,1,1,34,32,21,1,1,1,1,1,3,4,1,1,1,23,45,65]\n",
    "\n",
    "def calculate_max_consecutive_ones(arrlist):\n",
    "    count = 0\n",
    "    max_count=0\n",
    "\n",
    "    for elem in arrlist:\n",
    "        if(elem == 1):\n",
    "            count = count+1\n",
    "        else:\n",
    "            if(max_count<count):\n",
    "                max_count = count\n",
    "            count = 0\n",
    "    \n",
    "    return max_count\n",
    "\n",
    "result = calculate_max_consecutive_ones(arrlist)\n",
    "\n",
    "print(f\"max count of cons 1's = {result}\")"
   ]
  },
  {
   "cell_type": "code",
   "execution_count": null,
   "metadata": {},
   "outputs": [
    {
     "name": "stdout",
     "output_type": "stream",
     "text": [
      "Not possible because : division by zero\n",
      "finally always runs\n"
     ]
    }
   ],
   "source": [
    "my_num = int(input(\"Enter my_num\"))\n",
    "num=5\n",
    "def example_execeptio_hand():\n",
    "    try:\n",
    "        res = num/my_num\n",
    "        #update emp table salary=salary+30%\n",
    "        # error comes here \n",
    "        #update project budget by 30%\n",
    "        #db_conn.commit()\n",
    "        print(res)\n",
    "        \n",
    "        \n",
    "    except Exception as e:\n",
    "        #db_action.rollback()\n",
    "        print(f\"Not possible because : {e}\")\n",
    "    \n",
    "    finally:\n",
    "        #db_conn.close()\n",
    "        #csv file writer close \n",
    "        \n",
    "        #network_conn.close\n",
    "\n",
    "        print(\"finally always runs\")\n",
    "\n",
    "example_execeptio_hand()\n"
   ]
  },
  {
   "cell_type": "code",
   "execution_count": null,
   "metadata": {},
   "outputs": [
    {
     "name": "stdout",
     "output_type": "stream",
     "text": [
      "key found at index:  2\n"
     ]
    }
   ],
   "source": [
    "#Binary Search\n",
    "#list should compulsorily be sorted\n",
    "my_list = [24,45,54,60,63,71,89,100]\n",
    "\n",
    "\n",
    "def find_my_key_index(my_list,key):\n",
    "    start=0\n",
    "    end= len(my_list)-1\n",
    "    while start < end:\n",
    "        mid = int((start+end)/2)\n",
    "        if key == my_list[mid]:\n",
    "            return mid\n",
    "\n",
    "        elif key > my_list[mid]:\n",
    "            start = mid+1\n",
    "        else:                                                   #this means key < my_list[mid]\n",
    "            end =  mid-1\n",
    "    return -1\n",
    "\n",
    "\n",
    "result_index = find_my_key_index(my_list,54)\n",
    "\n",
    "if result_index == -1 :\n",
    "    print(\"key not found\")\n",
    "else:\n",
    "    print(\"key found at index: \",result_index)\n",
    "\n"
   ]
  },
  {
   "cell_type": "code",
   "execution_count": null,
   "metadata": {},
   "outputs": [
    {
     "name": "stdout",
     "output_type": "stream",
     "text": [
      "loop ran\n",
      "loop ran\n",
      "loop ran\n",
      "loop ran\n",
      "loop ran\n",
      "loop ran\n",
      "loop ran\n",
      "loop ran\n",
      "loop ran\n",
      "loop ran\n",
      "loop ran\n",
      "loop ran\n",
      "loop ran\n",
      "loop ran\n"
     ]
    },
    {
     "data": {
      "text/plain": [
       "15"
      ]
     },
     "execution_count": 65,
     "metadata": {},
     "output_type": "execute_result"
    }
   ],
   "source": [
    "#find square root of given number normally\n",
    "given_num = int(input(\"Give number to find square root\"))\n",
    "\n",
    "def find_root(given_num):\n",
    "    if given_num==0 :\n",
    "        return -1\n",
    "    elif given_num==1:\n",
    "        return 1\n",
    "\n",
    "    for i in range(2, int((given_num/2)+1)):\n",
    "        print(\"loop ran\")\n",
    "        if(i*i==given_num):\n",
    "            return i\n",
    "    return -1\n",
    "\n",
    "find_root(given_num)"
   ]
  },
  {
   "cell_type": "code",
   "execution_count": null,
   "metadata": {},
   "outputs": [
    {
     "name": "stdout",
     "output_type": "stream",
     "text": [
      "at step:1 start =2\n",
      "at step:1 end =13\n",
      "at step:1 mid =7\n",
      "-----------------------------\n",
      "at step:2 start =2\n",
      "at step:2 end =6\n",
      "at step:2 mid =4\n",
      "-----------------------------\n",
      "at step:3 start =5\n",
      "at step:3 end =6\n",
      "at step:3 mid =5\n",
      "-----------------------------\n"
     ]
    },
    {
     "data": {
      "text/plain": [
       "5"
      ]
     },
     "execution_count": 68,
     "metadata": {},
     "output_type": "execute_result"
    }
   ],
   "source": [
    "#find square root of given number using binary search\n",
    "given_num = int(input(\"Give number to find square root\"))\n",
    "\n",
    "def find_root(given_num):\n",
    "    if given_num==0 :\n",
    "        return -1\n",
    "    elif given_num==1:\n",
    "        return 1\n",
    "\n",
    "    start = 2\n",
    "    end =  int((given_num/2)+1)\n",
    "\n",
    "    counter=1\n",
    "\n",
    "    while start<end:\n",
    "        print(f\"at step:{counter} start ={start}\")\n",
    "        print(f\"at step:{counter} end ={end}\")\n",
    "        mid = int((start+end)/2)\n",
    "        print(f\"at step:{counter} mid ={mid}\")\n",
    "        print(\"-----------------------------\")\n",
    "        counter=counter+1\n",
    "        if mid*mid == given_num:\n",
    "            return mid\n",
    "        elif mid*mid> given_num:\n",
    "            end = mid-1\n",
    "        else: \n",
    "            start = mid+1\n",
    "\n",
    "    return -1\n",
    "\n",
    "\n",
    "find_root(given_num)"
   ]
  },
  {
   "cell_type": "code",
   "execution_count": null,
   "metadata": {},
   "outputs": [
    {
     "name": "stdout",
     "output_type": "stream",
     "text": [
      "i: 0\n",
      "elem: 10\n",
      "i: 1\n",
      "elem: 20\n",
      "i: 2\n",
      "elem: 30\n",
      "i: 3\n",
      "elem: 40\n",
      "i: 4\n",
      "elem: 50\n",
      "elem: 10\n",
      "elem: 20\n",
      "elem: 30\n",
      "elem: 40\n",
      "elem: 50\n",
      "elem: 60\n",
      "i: 0\n",
      "elem 10\n",
      "i: 1\n",
      "elem 20\n",
      "i: 2\n",
      "elem 30\n",
      "i: 3\n",
      "elem 40\n",
      "i: 4\n",
      "elem 50\n",
      "i: 5\n",
      "elem 60\n"
     ]
    }
   ],
   "source": [
    "mylist2 = [10,20,30,40,50,60]\n",
    "\n",
    "for i in range(0,5):\n",
    "    print(\"i:\",i)\n",
    "    print(\"elem:\",mylist2[i])\n",
    "\n",
    "for elem in mylist2:\n",
    "     print(\"elem:\",elem)\n",
    "\n",
    "\n",
    "for i, elem in enumerate(mylist2):\n",
    "    print(\"i:\",i)\n",
    "    print(\"elem\",elem)"
   ]
  },
  {
   "cell_type": "code",
   "execution_count": null,
   "metadata": {},
   "outputs": [
    {
     "name": "stdout",
     "output_type": "stream",
     "text": [
      "Two indices are:  3 and 6\n"
     ]
    }
   ],
   "source": [
    "#two sum problem\n",
    "# Given an array of integers: nums and an integer :target, return the indices of the two numbers such \n",
    "# that they add up to target.\n",
    "# You may assume that each input would have exactly one solution, and you may not use the same element twice.\n",
    "# You can return the answer in any order.\n",
    "# target = num1+num2 \n",
    "# num2= target-num1\n",
    "# O(n*2)\n",
    "nums=[10,43,25,2,1,11,7,23,26,99]\n",
    "target=9\n",
    "def two_sum(nums,target):\n",
    "    n = len(nums)\n",
    "    for i in range(n-1):\n",
    "        for j in range(i+1,n-1):\n",
    "            if nums[j]==target-nums[i]:\n",
    "                return i,j\n",
    "\n",
    "index1,index2 = two_sum(nums,target)\n",
    "\n",
    "print(\"Two indices are: \", index1,\"and\",index2)\n",
    "\n",
    "\n",
    "\n"
   ]
  },
  {
   "cell_type": "code",
   "execution_count": null,
   "metadata": {},
   "outputs": [
    {
     "name": "stdout",
     "output_type": "stream",
     "text": [
      "Two indices are:  3 and 6\n"
     ]
    }
   ],
   "source": [
    "#hasing approach #O(n)\n",
    "nums=[10,43,25,2,1,11,7,23,26,99]\n",
    "target=9\n",
    "\n",
    "def two_sum_using_hash(nums,target):\n",
    "    dict1={}\n",
    "    for i, elem in enumerate(nums):  \n",
    "\n",
    "        compliment = target-elem        \n",
    "        \n",
    "        if compliment in dict1.keys():\n",
    "            return i, dict1.get(compliment)\n",
    "        \n",
    "        dict1[elem]=i \n",
    "    \n",
    "    return -1,-1\n",
    "\n",
    "\n",
    "#dict1={10:0,43:1, 25:2, 2:3, 1:4, 11:5,   }\n",
    "\n",
    "\n",
    "index1,index2 = two_sum(nums,target)\n",
    "\n",
    "print(\"Two indices are: \", index1,\"and\",index2)"
   ]
  },
  {
   "cell_type": "code",
   "execution_count": null,
   "metadata": {},
   "outputs": [
    {
     "name": "stdout",
     "output_type": "stream",
     "text": [
      "cycle:  True\n"
     ]
    }
   ],
   "source": [
    "class ListNode:\n",
    "    def __init__(self, data, next=None):\n",
    "        self.data = data\n",
    "        self.next = next\n",
    "\n",
    "\n",
    "a = ListNode(10)\n",
    "b = ListNode(20)\n",
    "c = ListNode(30)\n",
    "d = ListNode(40) \n",
    "\n",
    "\n",
    "a.next = b\n",
    "b.next = c\n",
    "c.next = d\n",
    "# d.next = b\n",
    "\n",
    "\n",
    "def displayList(head):\n",
    "    current = head\n",
    "    while current!= None:\n",
    "        print(current.data,\" --> \", end=\" \")\n",
    "        current = current.next\n",
    "\n",
    "\n",
    "def is_there_a_cycle(head):\n",
    "    current= head \n",
    "    slow=fast=current\n",
    "\n",
    "    while fast!= None:\n",
    "        slow = slow.next\n",
    "        fast = fast.next.next\n",
    "        if(slow==fast):\n",
    "            return True\n",
    "    return False\n",
    "\n",
    "# displayList(a)\n",
    "\n",
    "print(\"cycle: \",is_there_a_cycle(a))\n"
   ]
  },
  {
   "cell_type": "code",
   "execution_count": null,
   "metadata": {},
   "outputs": [],
   "source": []
  },
  {
   "cell_type": "code",
   "execution_count": null,
   "metadata": {},
   "outputs": [],
   "source": []
  },
  {
   "cell_type": "code",
   "execution_count": null,
   "metadata": {},
   "outputs": [],
   "source": []
  }
 ],
 "metadata": {
  "kernelspec": {
   "display_name": "Python 3",
   "language": "python",
   "name": "python3"
  },
  "language_info": {
   "codemirror_mode": {
    "name": "ipython",
    "version": 3
   },
   "file_extension": ".py",
   "mimetype": "text/x-python",
   "name": "python",
   "nbconvert_exporter": "python",
   "pygments_lexer": "ipython3",
   "version": "3.12.0"
  }
 },
 "nbformat": 4,
 "nbformat_minor": 2
}
